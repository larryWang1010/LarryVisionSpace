{
 "cells": [
  {
   "attachments": {},
   "cell_type": "markdown",
   "metadata": {},
   "source": [
    "# ndarrary介绍\n",
    "- ndarray：N维数组对象（矩阵），所有元素必须是相同类型。\n",
    "- ndarray属性：ndim属性，表示维度个数；shape属性，表示各维度大小；dtype属性，表示数据类型。\n",
    "\n",
    "参考\n",
    "\n",
    "https://blog.csdn.net/cxmscb/article/details/54583415#t4\n",
    "\n",
    "https://numpy.org/doc/stable/index.html\n",
    "\n",
    "https://zhuanlan.zhihu.com/p/478249595"
   ]
  },
  {
   "attachments": {},
   "cell_type": "markdown",
   "metadata": {},
   "source": [
    "# ndarrary使用"
   ]
  },
  {
   "attachments": {},
   "cell_type": "markdown",
   "metadata": {},
   "source": [
    "### 创建 ndarrary\n",
    "- numpyn内部功能函数；\n",
    "- 从列表等python其他结构转换；\n",
    "- 使用特殊的库函数。\n",
    "\n",
    "参考\n",
    "https://developer.aliyun.com/article/1050654"
   ]
  },
  {
   "cell_type": "code",
   "execution_count": 1,
   "metadata": {},
   "outputs": [
    {
     "name": "stdout",
     "output_type": "stream",
     "text": [
      "[1.+0.j 2.+0.j 3.+0.j 4.+0.j]\n",
      "数据类型 <class 'numpy.ndarray'>\n",
      "数组元素数据类型： complex128\n",
      "数组元素总数： 4\n",
      "数组形状： (4,)\n",
      "数组的维度数目 1\n"
     ]
    }
   ],
   "source": [
    "import numpy as np  \n",
    "      \n",
    "a1 = np.array([1,2,3,4],dtype=np.complex128)  \n",
    "print(a1)  \n",
    "print(\"数据类型\",type(a1))           #打印数组数据类型  \n",
    "print(\"数组元素数据类型：\",a1.dtype) #打印数组元素数据类型  \n",
    "print(\"数组元素总数：\",a1.size)      #打印数组尺寸，即数组元素总数  \n",
    "print(\"数组形状：\",a1.shape)         #打印数组形状  \n",
    "print(\"数组的维度数目\",a1.ndim)      #打印数组的维度数目  "
   ]
  },
  {
   "attachments": {},
   "cell_type": "markdown",
   "metadata": {},
   "source": [
    "创建一维/二维数组\n",
    "1. 内置函数创建常见的矩阵\n",
    "2. 从python list创建"
   ]
  },
  {
   "cell_type": "code",
   "execution_count": 1,
   "metadata": {},
   "outputs": [
    {
     "name": "stdout",
     "output_type": "stream",
     "text": [
      "[ 0  1  2  3  4  5  6  7  8  9 10 11 12 13 14 15 16 17 18 19]\n",
      "[[ 0  1  2  3  4]\n",
      " [ 5  6  7  8  9]\n",
      " [10 11 12 13 14]\n",
      " [15 16 17 18 19]]\n",
      "1 [[0. 0.]\n",
      " [0. 0.]] (2, 2)\n",
      "2 [[1. 1. 1.]\n",
      " [1. 1. 1.]\n",
      " [1. 1. 1.]]\n",
      "3 [[6 6 6]\n",
      " [6 6 6]]\n",
      "4 [[1. 0.]\n",
      " [0. 1.]]\n",
      "5 [[0.76947571 0.75856319]\n",
      " [0.59899675 0.76446549]]\n",
      "[1, 2, 3] <class 'list'>\n",
      "[1 2 3] <class 'numpy.ndarray'>\n",
      "[[ 1  2  3  4]\n",
      " [ 5  6  7  8]\n",
      " [ 9 10 11 12]] <class 'numpy.ndarray'>\n"
     ]
    }
   ],
   "source": [
    "import numpy as np\n",
    "\n",
    "array1 = np.arange(20)\n",
    "array2 = np.arange(20).reshape(4,5)\n",
    "print(array1)\n",
    "print(array2)\n",
    "\n",
    "#创建所有元素为0的数组\n",
    "a = np.zeros((2,2))\n",
    "print(1,a,a.shape)\n",
    "#创建所有元素为1的数组\n",
    "b = np.ones((3,3))\n",
    "print(2,b)\n",
    "##创建所有元素都相同的数组\n",
    "c = np.full((2,3),6) \n",
    "print(3,c)\n",
    "#创建单位矩阵\n",
    "d = np.eye(2)\n",
    "print(4,d)\n",
    "#创建随机值的矩阵\n",
    "e = np.random.random((2,2))\n",
    "print(5,e)\n",
    "# 从 python list 创建\n",
    "a = [1,2,3]\n",
    "b = np.array(a)\n",
    "c = np.array([[1,2,3,4], [5,6,7,8], [9,10,11,12]])\n",
    "\n",
    "print(a,type(a))\n",
    "print(b,type(b))\n",
    "print(c, type(c))"
   ]
  },
  {
   "attachments": {},
   "cell_type": "markdown",
   "metadata": {},
   "source": [
    "### 切片操作\n",
    "- python中一般包括开始索引，不包括停止索引；\n",
    "- `-1`表示倒序，为最后一行/列；\n",
    "- 对于多维数组，每一维度都可指定切片，维度之间用`,`，同一个维度之内用`:`；\n",
    "\n",
    "##### 一维数组\n",
    "\n",
    "- `a[i]`返回索引相对应的单个元素；\n",
    "- `b = a[i:j]`\n",
    "    - `a[:n]`缺省i，表示0索引元素到n索引元素(不包括n索引)；\n",
    "    - `a[m:]`缺省j，表示m索引元素到最后一项\n",
    "    - `a[:]`缺省i,j，表示完整复制a\n",
    "- `c = a[i:j:s]`s表示步长\n",
    "    - 当s小于0时，i缺省，默认为-1；j缺省默认为，-len(a)-1"
   ]
  },
  {
   "cell_type": "code",
   "execution_count": 17,
   "metadata": {},
   "outputs": [
    {
     "name": "stdout",
     "output_type": "stream",
     "text": [
      "1 4 5\n",
      "2 [1, 2, 3, 4]\n",
      "3 [3, 4, 5]\n",
      "4 [5, 4, 3, 2, 1]\n"
     ]
    }
   ],
   "source": [
    "import numpy as np\n",
    "a = [1,2,3,4,5]\n",
    "print(1,a[3],len(a))\n",
    "print(2, a[:4])\n",
    "print(3, a[2:])\n",
    "print(4, a[::-1])"
   ]
  },
  {
   "attachments": {},
   "cell_type": "markdown",
   "metadata": {},
   "source": [
    "#### 二维数组\n",
    "*技巧*\n",
    "\n",
    "- 看`,`，如果有逗号，说明对**行**（0维）有操作，需要去看是哪几行；逗号前行操作，逗号后列操作；\n",
    "- 看`:`，如果有冒号，说明对**列**（1维）有操作，去看操作了哪几列;"
   ]
  },
  {
   "cell_type": "code",
   "execution_count": 14,
   "metadata": {},
   "outputs": [
    {
     "name": "stdout",
     "output_type": "stream",
     "text": [
      "1 10\n",
      "2 [[11 12]\n",
      " [21 22]]\n",
      "3 [[ 0  1]\n",
      " [10 11]]\n",
      "4 [[ 0  1]\n",
      " [10 11]\n",
      " [20 21]\n",
      " [30 31]]\n",
      "5 [ 0 10 20 30]\n"
     ]
    }
   ],
   "source": [
    "import numpy as np\n",
    "X = np.array([[0,1,2,3],[10,11,12,13],[20,21,22,23],[30,31,32,33]])\n",
    "#X 是一个二维数组，维度为 0 ，1；第 0 层 [] 表示第 0 维；第 1 层 [] 表示第 1 维；\n",
    "\n",
    "# X[n0,n1] 表示第 0 维 取第n0 个元素 ，第 1 维取第 n1 个元素\n",
    "print(1, X[1,0])\n",
    "# X[1:3,1:3] 表示第 0 维 取 (1:3)元素 ，第 1 维取第(1:3) 个元素\n",
    "print(2, X[1:3,1:3])\n",
    "\n",
    "# X[:n0,:n1] 表示第 0 维 取 第0 到 第n0 个元素 ，第 1 维取 第0 到 第n1 个元素\n",
    "print(3, X[:2,:2])\n",
    "# X[:,:n1] 表示第 0 维 取 全部元素 ，第 1 维取 第0 到第n1 个元素\n",
    "print(4, X[:,:2])\n",
    "\n",
    "# X[:,0]) 表示第 0 维 取全部 元素 ，第 1 维取第 0 个元素\n",
    "print(5, X[:,0])"
   ]
  },
  {
   "attachments": {},
   "cell_type": "markdown",
   "metadata": {},
   "source": [
    "## 其他\n",
    "### np.array()和np.mat()的区别\n",
    "\n",
    "1. 生成数组所需格式不同\n",
    "    - mat可以从字符串或列表中生成；\n",
    "    - array只能从列表中生成\n",
    "\n",
    "2. 生成的数组计算方式不同\n",
    "    - array生成数组，用np.dot()表示矩阵乘积，（*）号或np.multiply()表示点乘\n",
    "    - mat生成数组，（*）和np.dot()相同表示矩阵乘积，点乘只能用np.multiply()"
   ]
  },
  {
   "cell_type": "code",
   "execution_count": 16,
   "metadata": {},
   "outputs": [
    {
     "name": "stdout",
     "output_type": "stream",
     "text": [
      "[[1 2]\n",
      " [3 4]] <class 'numpy.matrix'>\n",
      "[[5 6]\n",
      " [7 8]] <class 'numpy.matrix'>\n"
     ]
    }
   ],
   "source": [
    "import numpy as np\n",
    "a = np.mat(data = \"1,2;3,4\")\n",
    "b = np.asmatrix([[5,6],[7,8]])\n",
    "print(a,type(a))\n",
    "print(b,type(b))"
   ]
  },
  {
   "cell_type": "code",
   "execution_count": 15,
   "metadata": {},
   "outputs": [
    {
     "name": "stdout",
     "output_type": "stream",
     "text": [
      "[[4 4]\n",
      " [4 4]] <class 'numpy.ndarray'> <class 'numpy.ndarray'>\n",
      "[[2 2]\n",
      " [2 2]]\n",
      "[[2 2]\n",
      " [2 2]]\n"
     ]
    }
   ],
   "source": [
    "import numpy as np\n",
    "arr_a = np.array([[1,1],[1,1]])\n",
    "arr_b = np.array([[2,2],[2,2]])\n",
    "print(np.dot(arr_a,arr_b),type(arr_a),type(arr_b))\n",
    "print(arr_a*arr_b)\n",
    "print(np.multiply(arr_a,arr_b))"
   ]
  },
  {
   "cell_type": "code",
   "execution_count": 18,
   "metadata": {},
   "outputs": [
    {
     "name": "stdout",
     "output_type": "stream",
     "text": [
      "[[3 3]\n",
      " [6 6]]\n",
      "[[3 3]\n",
      " [6 6]]\n",
      "[[1 1]\n",
      " [4 4]]\n"
     ]
    }
   ],
   "source": [
    "import numpy as np\n",
    "a = np.mat([[1,1],[2,2]])\n",
    "b = np.mat([[1,1],[2,2]])\n",
    "print(np.dot(a,b))\n",
    "print(a*b)\n",
    "print(np.multiply(a,b))"
   ]
  },
  {
   "attachments": {},
   "cell_type": "markdown",
   "metadata": {},
   "source": [
    "## numpy中的矩阵运算"
   ]
  },
  {
   "cell_type": "code",
   "execution_count": 3,
   "metadata": {},
   "outputs": [
    {
     "name": "stdout",
     "output_type": "stream",
     "text": [
      "[[0.4]\n",
      " [1.2]]\n",
      "[[1 2 3 4 5]\n",
      " [5 6 7 8 9]]\n",
      "[[ 0.4  0.8  1.2  1.6  2. ]\n",
      " [ 6.   7.2  8.4  9.6 10.8]]\n"
     ]
    }
   ],
   "source": [
    "#numpy矩阵的点乘\n",
    "import numpy as np\n",
    "\n",
    "w = np.array([[0.4], [1.2]])\n",
    "x = np.array([range(1,6), range(5,10)])\n",
    "\n",
    "print(w)\n",
    "print(x)\n",
    "print(w*x)"
   ]
  },
  {
   "cell_type": "code",
   "execution_count": 4,
   "metadata": {},
   "outputs": [
    {
     "name": "stdout",
     "output_type": "stream",
     "text": [
      "[[0.4 1.2]]\n",
      "[[1 2 3 4 5]\n",
      " [5 6 7 8 9]]\n",
      "[[ 6.4  8.   9.6 11.2 12.8]]\n"
     ]
    }
   ],
   "source": [
    "#numpy矩阵乘\n",
    "import numpy as np\n",
    "\n",
    "w = np.array([[0.4, 1.2]])\n",
    "x = np.array([range(1,6), range(5,10)])\n",
    "\n",
    "print(w)\n",
    "print(x)\n",
    "print(np.dot(w,x))"
   ]
  },
  {
   "attachments": {},
   "cell_type": "markdown",
   "metadata": {},
   "source": [
    "## numpy数组编程，加速计算\n",
    "三个重要概念维Numpy提供强大功能\n",
    "- 矢量化\n",
    "- 广播\n",
    "- 索引"
   ]
  },
  {
   "cell_type": "code",
   "execution_count": 19,
   "metadata": {},
   "outputs": [
    {
     "name": "stdout",
     "output_type": "stream",
     "text": [
      "<class 'numpy.ndarray'>\n"
     ]
    }
   ],
   "source": [
    "import numpy as np\n",
    "a =np.eye(2)\n",
    "print(type(a))"
   ]
  },
  {
   "cell_type": "code",
   "execution_count": 22,
   "metadata": {},
   "outputs": [
    {
     "name": "stdout",
     "output_type": "stream",
     "text": [
      "[10  2  3] [10  2  3] [1 2 3]\n"
     ]
    }
   ],
   "source": [
    "import numpy as np\n",
    "x = np.array([1, 2, 3])\n",
    "y = x\n",
    "z = np.copy(x)\n",
    "x[0] = 10\n",
    "print(x,y,z)"
   ]
  },
  {
   "attachments": {},
   "cell_type": "markdown",
   "metadata": {},
   "source": [
    "#  无拷贝、深拷贝与浅拷贝\n",
    "\n",
    "概念\n",
    "\n",
    "浅拷贝是对另外一个变量的**内存地址**的拷贝，这两个变量指向同一个内存地址。\n",
    "\n",
    "因此，仅仅拷贝的是内存地址，而不是内存数据。这个变量值为一个地址，它指向了一个内存数据。\n"
   ]
  },
  {
   "attachments": {},
   "cell_type": "markdown",
   "metadata": {},
   "source": [
    "### 无拷贝 no copy\n",
    "\n",
    "简单复制操作，不会产生对象\n",
    "\n",
    "相当于起个别名，对它进行操作，即本身的操作"
   ]
  },
  {
   "cell_type": "code",
   "execution_count": 52,
   "metadata": {},
   "outputs": [
    {
     "name": "stdout",
     "output_type": "stream",
     "text": [
      "[[ 0  1  2  3]\n",
      " [ 4  5  6  7]\n",
      " [ 8  9 10 11]] 2404414234832 [[ 0  1  2  3]\n",
      " [ 4  5  6  7]\n",
      " [ 8  9 10 11]] 2404414234832\n"
     ]
    }
   ],
   "source": [
    "import numpy as np\n",
    "a = np.arange(12)\n",
    "b = a\n",
    "b.shape = 3,4 #改变b对象，a对象也会发生改变\n",
    "print(a, id(a), b, id(b))"
   ]
  },
  {
   "attachments": {},
   "cell_type": "markdown",
   "metadata": {},
   "source": [
    "### 浅拷贝 shallow copy or view\n",
    "\n",
    "- 只copy对象，不copy底层的数据，**共用原始引用**指向的对象数据\n",
    "- 在view上修改数据，会反映到原始数据\n",
    "- 切片是特殊的**浅拷贝**"
   ]
  },
  {
   "cell_type": "code",
   "execution_count": 55,
   "metadata": {},
   "outputs": [
    {
     "name": "stdout",
     "output_type": "stream",
     "text": [
      "[[ 0  1  2  3]\n",
      " [ 4  5  6  7]\n",
      " [ 8  9 10 11]] 2404414774448\n",
      "[[ 0  1  2  3  4  5]\n",
      " [99 99 99 99 99 99]] 2404414774688\n",
      "[[ 0  1  2  3]\n",
      " [ 4  5 99 99]\n",
      " [99 99 99 99]] 2404414774448\n"
     ]
    }
   ],
   "source": [
    "import numpy as np\n",
    "a = np.arange(12)\n",
    "b = a\n",
    "b.shape = 3,4\n",
    "print(a,id(a))\n",
    "\n",
    "c = a.view()\n",
    "c.shape = 2,6\n",
    "c[1] = 99\n",
    "\n",
    "print(c,id(c))\n",
    "print(a,id(a))"
   ]
  },
  {
   "attachments": {},
   "cell_type": "markdown",
   "metadata": {},
   "source": [
    "## 深拷贝\n",
    "- 变量的内存地址不同，\n",
    "- 改变任一变量的值，不相互影响；\n",
    "- `np.copy()`方法是**深拷贝**；"
   ]
  },
  {
   "cell_type": "code",
   "execution_count": 57,
   "metadata": {},
   "outputs": [
    {
     "name": "stdout",
     "output_type": "stream",
     "text": [
      "[ 0  1  2  3  4  5  6  7  8  9 10 11] 2404414237472\n",
      "[ 0  1  2  3  4  5  6  7  8  9 10 11] 2404414237472 [ 0 55  2  3  4  5  6  7  8  9 10 11] 2404415818608\n"
     ]
    }
   ],
   "source": [
    "import numpy as np\n",
    "a = np.arange(12)\n",
    "b = a\n",
    "print(a,id(a))\n",
    "\n",
    "d = a.copy()\n",
    "d[1] = 55\n",
    "print(a, id(a), d, id(d))"
   ]
  },
  {
   "attachments": {},
   "cell_type": "markdown",
   "metadata": {},
   "source": []
  }
 ],
 "metadata": {
  "kernelspec": {
   "display_name": "Python 3",
   "language": "python",
   "name": "python3"
  },
  "language_info": {
   "codemirror_mode": {
    "name": "ipython",
    "version": 3
   },
   "file_extension": ".py",
   "mimetype": "text/x-python",
   "name": "python",
   "nbconvert_exporter": "python",
   "pygments_lexer": "ipython3",
   "version": "3.8.10"
  }
 },
 "nbformat": 4,
 "nbformat_minor": 4
}
