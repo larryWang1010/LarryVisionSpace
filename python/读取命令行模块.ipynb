{
 "cells": [
  {
   "cell_type": "markdown",
   "metadata": {},
   "source": [
    "- `sys.argv`传给python的命令行参数**列表**\n",
    "- `argv[0]`是python脚本，如果文件是空的，`argv[0]`也是空的\n",
    "\n",
    "\n"
   ]
  },
  {
   "cell_type": "markdown",
   "metadata": {},
   "source": [
    "两类参数：\n",
    "- 可选参数\n",
    "- 位置参数\n",
    "\n",
    "```python\n",
    "parser.add_argument('-f', '--foo')  #指定一个可选参数\n",
    "parser.add_argument('bar')          #指定一个位置参数\n",
    "```"
   ]
  },
  {
   "cell_type": "code",
   "execution_count": null,
   "metadata": {},
   "outputs": [],
   "source": [
    "\n"
   ]
  }
 ],
 "metadata": {
  "kernelspec": {
   "display_name": "Python 3",
   "language": "python",
   "name": "python3"
  },
  "language_info": {
   "codemirror_mode": {
    "name": "ipython",
    "version": 3
   },
   "file_extension": ".py",
   "mimetype": "text/x-python",
   "name": "python",
   "nbconvert_exporter": "python",
   "pygments_lexer": "ipython3",
   "version": "3.8.5"
  }
 },
 "nbformat": 4,
 "nbformat_minor": 4
}
