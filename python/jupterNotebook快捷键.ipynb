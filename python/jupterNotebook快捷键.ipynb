{
 "cells": [
  {
   "attachments": {},
   "cell_type": "markdown",
   "metadata": {},
   "source": [
    "Jupyter Notebook是一个开源Web应用程序，可让你创建和共享包含实时代码、方程式、可视化效果和叙述文本的文档。 用途包括：数据清理和转换、数值模拟、统计模型、数据可视化、机器学习等。"
   ]
  },
  {
   "attachments": {},
   "cell_type": "markdown",
   "metadata": {},
   "source": [
    "当单元左侧的垂直条显示其为**命令状态**（蓝色）时，可以使用下面这些快捷键\n",
    "- `a` insert a cell above the current cell\n",
    "- `b` insert a cell below the current cell\n",
    "- `dd` delete the cell\n",
    "- `y` set the content type as code\n",
    "- `m` set the content type as markdown\n",
    "- `alt + delete` 删掉输出的内容"
   ]
  }
 ],
 "metadata": {
  "language_info": {
   "name": "python"
  },
  "orig_nbformat": 4
 },
 "nbformat": 4,
 "nbformat_minor": 2
}
