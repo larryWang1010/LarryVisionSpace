{
 "cells": [
  {
   "cell_type": "markdown",
   "metadata": {},
   "source": [
    "# 准备\n",
    "## python解释器\n",
    "\n",
    "Linux平台python默认解释器为：`CPython`。这个解释器是用C语言开发的，所以叫CPython。在命令行下运行python就是启动CPython解释器。\n",
    "\n",
    "还有其他解释器：\n",
    "1. `IPython`，基于CPython之上的一个交互式解释器；\n",
    "2. `PyPy`，它的目标是执行速度，因此它的执行速度比较快；\n",
    "3. `Jython`，在Java平台上的Python解释器，可以直接把Python代码编译成Java字节码执行；\n",
    "4. `IronPython`，和Jython类似，只不过IronPython是运行在微软.Net平台上的Python解释器，可以直接把Python代码编译成.Net的字节码。\n",
    "\n",
    "## 命令行模式和交互模式\n",
    "1. 命令行模式，就是在终端运行`.py`文件。\n",
    "2. 交互模式，在终端敲命令`python`或`python3`，即进入Python交互模式，它的提示符是`>>>`。在终端输入`exit()`退出交互模式，回到终端。\n",
    "3. 两者的不同，交互模式输入一行，执行一行，主要用于调试python代码，而命令行模式下直接运行`.py`文件是一次性执行该文件内的所有代码。\n",
    "\n",
    "参考教程\n",
    "\n",
    "廖雪峰的官方网站 https://www.liaoxuefeng.com/wiki/1016959663602400/1017063413904832"
   ]
  },
  {
   "cell_type": "markdown",
   "metadata": {},
   "source": [
    "# python命名空间和作用域\n",
    "\n",
    "- 赋值语句会将绑定关系写入命名空间，而引用变量时则会根据变量名在命名空间中查询出对应的值；\n",
    "- 大部分的命名空间都是利用 Python 的字典来实现的；\n",
    "- 程序中出现在全局的变量构成一个命名空间，Python 内置的函数和异常类也有它们自己的命名空间，每次定义函数或类时也会创建专属于它们的命名空间。\n",
    "\n",
    "## LEGB 规则\n",
    "\n",
    "引用变量时，按 L -> E -> G -> B 的顺序在不同作用域中查询：\n",
    "\n",
    "- L（Local）：局部作用域，比如函数或方法内部。\n",
    "- E（Enclosing）：外层作用域，比如一个闭包函数的外层函数部分。\n",
    "- G（Global）：全局作用域，比如当前运行的文件或导入的模块的内部。\n",
    "- B（Built-in）：Python 的内置函数等存在的作用域。\n",
    "\n",
    "## 模块作用域\n",
    "每个模块都有其专属的命名空间和全局作用域，模块内变量的引用同样服从 LEGB 规则。事实上，主程序也不过是特殊的`__main__`模块的一部分而已。通过 import 语句可以把主程序里的变量名绑定给其它模块里的对象，以实现跨模块的引用。比如以下语句，第一句会将 math 模块作为一个对象绑定到主程序里的 math 变量名上，接着以 math.func 的形式调用模块里的函数即可。\n",
    "```python\n",
    "import math\n",
    "from math import sqrt\n",
    "# 而第二句等价于\n",
    "import math as _\n",
    "sqrt = _.sqrt\n",
    "del(_)\n",
    "\n",
    "```\n",
    "\n",
    "参考\n",
    "\n",
    "https://zhajiman.github.io/post/python_namespace_scope/"
   ]
  },
  {
   "cell_type": "markdown",
   "metadata": {},
   "source": []
  },
  {
   "cell_type": "markdown",
   "metadata": {},
   "source": [
    "# 复合语句"
   ]
  },
  {
   "cell_type": "markdown",
   "metadata": {},
   "source": [
    "用于包装带有上下文管理器定义的方法的代码块的执行。"
   ]
  },
  {
   "cell_type": "markdown",
   "metadata": {},
   "source": [
    "# python模块\n",
    "python模块下面的语句\n",
    "```python\n",
    "if __name__ == \"__main__\":\n",
    "    pass\n",
    "```\n",
    "\n",
    "Python是一种解释型脚本语言，在执行之前不同要将所有代码先编译成中间代码，Python程序运行时是从模块顶行开始，逐行进行翻译执行，所以，最顶层（没有被缩进）的代码都会被执行，所以Python中并不需要一个统一的main()作为程序的入口。在某种意义上讲，“if __name__==’__main__:”也像是一个标志，象征着Java、C++等语言中的程序主入口，告诉其他程序员，代码入口在此——这是“if __name__==’__main__:”这条代码的意义之一。\n",
    "\n",
    "https://blog.csdn.net/cadi2011/article/details/84775745\n",
    "\n",
    "`__name__` python内置系统变量，当python程序被执行时，入口文件即python解释器紧跟的那个py文件，在这个文件中​​__name__​​​的值为​​__main__​​​，在其它py文件中的​​__name__​​​的值都等于所在文件的文件名(不包含.py后缀)。通常，我们使用​​if __name__ == \"__main__\"​​来判断当前文件是否是入口文件，以便判断是否要执行这个if语句中的代码块。"
   ]
  },
  {
   "cell_type": "markdown",
   "metadata": {},
   "source": [
    "\n",
    "# 理解编程语言\n",
    "\n",
    "https://zhuanlan.zhihu.com/p/23926957\n"
   ]
  },
  {
   "cell_type": "markdown",
   "metadata": {},
   "source": [
    "# 基础"
   ]
  },
  {
   "cell_type": "markdown",
   "metadata": {},
   "source": [
    "# 上下文管理器\n",
    "\n",
    "Python 定义了一些上下文管理器来支持简易的线程同步、文件或其他对象的快速关闭，以及更方便地操作活动的十进制算术上下文。 除了实现上下文管理协议以外，不同类型不会被特殊处理。"
   ]
  }
 ],
 "metadata": {
  "kernelspec": {
   "display_name": "Python 3",
   "language": "python",
   "name": "python3"
  },
  "language_info": {
   "codemirror_mode": {
    "name": "ipython",
    "version": 3
   },
   "file_extension": ".py",
   "mimetype": "text/x-python",
   "name": "python",
   "nbconvert_exporter": "python",
   "pygments_lexer": "ipython3",
   "version": "3.8.10"
  },
  "orig_nbformat": 4
 },
 "nbformat": 4,
 "nbformat_minor": 2
}
