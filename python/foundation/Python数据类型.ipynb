{
 "cells": [
  {
   "attachments": {},
   "cell_type": "markdown",
   "metadata": {},
   "source": [
    "# 动态语言和静态语言中变量的不同\n",
    "- 动态语言变量本身类型不固定；静态语言必须在定义变量时指明变量类型。"
   ]
  },
  {
   "cell_type": "code",
   "execution_count": 26,
   "metadata": {},
   "outputs": [
    {
     "name": "stdout",
     "output_type": "stream",
     "text": [
      "123\n",
      "hello jupyter\n"
     ]
    }
   ],
   "source": [
    "a=123    # a为整数\n",
    "print(a)\n",
    "a='hello jupyter' # a为字符串\n",
    "print(a)"
   ]
  },
  {
   "attachments": {},
   "cell_type": "markdown",
   "metadata": {},
   "source": [
    "# 6个标准数据类型\n",
    "- **不可变数据**：Number, Turple, String\n",
    "- **可变数据**：List, Set, Dictionary\n",
    "- 索引一般用`[]`"
   ]
  },
  {
   "attachments": {},
   "cell_type": "markdown",
   "metadata": {},
   "source": [
    "# number 数字"
   ]
  },
  {
   "attachments": {},
   "cell_type": "markdown",
   "metadata": {},
   "source": [
    "- 支持：**int, float, bool, complex**\n",
    "- 只有`int`一种整型，表示长整型\n",
    "- 使用`typle()`函数查询变量的数据类型"
   ]
  },
  {
   "cell_type": "code",
   "execution_count": 2,
   "metadata": {},
   "outputs": [
    {
     "name": "stdout",
     "output_type": "stream",
     "text": [
      "<class 'int'> <class 'complex'> <class 'bool'>\n"
     ]
    }
   ],
   "source": [
    "a = 1\n",
    "b = 3+3j\n",
    "c = False\n",
    "print(type(a),type(b),type(c))"
   ]
  },
  {
   "attachments": {},
   "cell_type": "markdown",
   "metadata": {},
   "source": [
    "# string 字符串\n",
    "由零个或多个字符组成的序列\n",
    "- python中使用单引号`''`和双引号`\"\"`完全相同；\n",
    "- 字符串中使用`\\`表示转义，即`\\`之后的字符不再是它原来的意义，`\\n`表示换行，`\\t`表示制表符；\n",
    "    - 字符串中使用`'`，要写成`\\'`；\n",
    "    - 使用`\\`，写成`\\\\`，；"
   ]
  },
  {
   "cell_type": "code",
   "execution_count": 4,
   "metadata": {},
   "outputs": [
    {
     "name": "stdout",
     "output_type": "stream",
     "text": [
      "'hello,world!' \n",
      "\\hello,world!\\\n"
     ]
    }
   ],
   "source": [
    "s1 = '\\'hello,world!\\''\n",
    "s2 = '\\n\\\\hello,world!\\\\\\n'\n",
    "print(s1,s2,end='')"
   ]
  },
  {
   "cell_type": "code",
   "execution_count": null,
   "metadata": {},
   "outputs": [],
   "source": []
  },
  {
   "attachments": {},
   "cell_type": "markdown",
   "metadata": {},
   "source": [
    "### 方法\n",
    "```python\n",
    "str.find(str, beg=0, end=len(string))\n",
    "```\n",
    "参数：\n",
    "- `str` 检索的字符串\n",
    "- `beg` 开始索引，默认为0\n",
    "- `end` 结束索引，默认为字符串长度\n",
    "\n",
    "返回值：如果包含子字符串返回开始的(第一个)**索引值**，否则返回-1"
   ]
  },
  {
   "attachments": {},
   "cell_type": "markdown",
   "metadata": {},
   "source": [
    "### 函数"
   ]
  },
  {
   "cell_type": "markdown",
   "metadata": {},
   "source": [
    "### 字符串格式化\n",
    "\n",
    "提供两种方式\n",
    "\n",
    "`str.format()`\n",
    "\n",
    "基于C `printf` 样式的格式化"
   ]
  },
  {
   "cell_type": "code",
   "execution_count": 5,
   "metadata": {},
   "outputs": [
    {
     "name": "stdout",
     "output_type": "stream",
     "text": [
      "-1\n",
      "1\n"
     ]
    }
   ],
   "source": [
    "info = 'wangjiajun'\n",
    "print(info.find('j',5,7))\n",
    "print(info.find('a',1))"
   ]
  },
  {
   "attachments": {},
   "cell_type": "markdown",
   "metadata": {},
   "source": [
    "### 运算符\n",
    "- `*`用于重复字符串的内容；\n",
    "- `+`用于实现字符串的拼接\n",
    "- `in`和`not in`成员运算，即判断一个字符串是否包含在另一个字符串中；\n",
    "- `[]`和`[:]`切片，去除某个（些）字符"
   ]
  },
  {
   "cell_type": "code",
   "execution_count": 12,
   "metadata": {},
   "outputs": [
    {
     "name": "stdout",
     "output_type": "stream",
     "text": [
      "hello hello hello \n",
      "hello hello hello world\n",
      "True\n"
     ]
    }
   ],
   "source": [
    "s1 = 'hello '*3\n",
    "print(s1)\n",
    "s2 = 'world'\n",
    "print(s1+s2)\n",
    "\n",
    "print('ll' in s1)"
   ]
  },
  {
   "attachments": {},
   "cell_type": "markdown",
   "metadata": {},
   "source": [
    "# List列表\n",
    "列表是一种**结构化、非标量**类型，因此会有**属性和方法**，它是值的**有序序列**\n",
    "\n",
    "- 写在`[]`中，`,`分隔，是使用最频繁的数据类型；\n",
    "- list元素可以包含数字，字符，嵌套；\n",
    "- 索引，切片，索引从0开始（这点和matlab不同，matlab从1开始索引），-1开始反向索引；"
   ]
  },
  {
   "cell_type": "code",
   "execution_count": 13,
   "metadata": {},
   "outputs": [
    {
     "name": "stdout",
     "output_type": "stream",
     "text": [
      "3\n",
      "Michael\n",
      "[1, 2, 3, 'abcde']\n",
      "[1, 2, 3, 'abcde', 'Michael', 'Bob', 'Tracy']\n",
      "[2, 3, 'abcde']\n",
      "['Michael', 'Bob', 'Tracy', 'Michael', 'Bob', 'Tracy', 'Michael', 'Bob', 'Tracy']\n"
     ]
    }
   ],
   "source": [
    "class1 = [1,2,3,'abcde']\n",
    "classmates = ['Michael', 'Bob', 'Tracy']\n",
    "print(len(classmates)) #list元素个数\n",
    "print(classmates[0]) #list索引从0开始\n",
    "print(class1) #输出列表\n",
    "print(class1+classmates) #连接两个列表\n",
    "print(class1[1:]) #切片\n",
    "print(classmates * 3) #输出三次列表"
   ]
  },
  {
   "attachments": {},
   "cell_type": "markdown",
   "metadata": {},
   "source": [
    "## 列表使用"
   ]
  },
  {
   "attachments": {},
   "cell_type": "markdown",
   "metadata": {},
   "source": [
    "### 创建列表"
   ]
  },
  {
   "cell_type": "code",
   "execution_count": 3,
   "metadata": {},
   "outputs": [
    {
     "name": "stdout",
     "output_type": "stream",
     "text": [
      "a=  [0, 0, 0, 0, 0]\n",
      "b=  [0, 0, 0, 0, 0]\n",
      "c=  [0, 0, 0, 0, 0]\n",
      "d=  [0, 0, 0, 0, 0]\n"
     ]
    }
   ],
   "source": [
    "#使用简单循环，见方法1和2\n",
    "#方法1：append方法\n",
    "a = []\n",
    "for i in range(5):\n",
    "    a.append(0)\n",
    "print('a= ',a)\n",
    "\n",
    "#方法2：使用+=\n",
    "b=[]\n",
    "for i in range(5):\n",
    "    b +=[0]\n",
    "print('b= ',b)\n",
    "\n",
    "#列表解析式\n",
    "c=[0 for i in range(5)]\n",
    "print('c= ',c)\n",
    "\n",
    "d=[0]*5\n",
    "print('d= ',d)\n"
   ]
  },
  {
   "attachments": {},
   "cell_type": "markdown",
   "metadata": {},
   "source": [
    "### 创建二维列表"
   ]
  },
  {
   "cell_type": "code",
   "execution_count": 15,
   "metadata": {
    "scrolled": false
   },
   "outputs": [
    {
     "name": "stdout",
     "output_type": "stream",
     "text": [
      "[[0], [1], [2]]\n"
     ]
    }
   ],
   "source": [
    "a=[[i] for i in range(3)]  #列表生成式\n",
    "print(a)"
   ]
  },
  {
   "attachments": {},
   "cell_type": "markdown",
   "metadata": {},
   "source": [
    "### 列表解析式 list\n",
    "\n",
    "又叫 列表生成式，区别于列表生成器\n",
    "\n",
    "语法：`[表达式 for 元素 in 可迭代对象 if 条件]`\n",
    "- 使用中括号[]创建一个列表\n",
    "- 表达式的返回值会放入这个创建的列表中\n",
    "- 内部是for循环\n",
    "- if条件语句可选，如果有if语句，必须是if的条件判断成功，才会执行表达式\n",
    "- 将每次for循环执行表达式后的返回值，依次放入创建的列表中，for循环迭代多少次就把多少个返回值放入列表中，最后返回一个新的列表\n",
    "- 一般使用列表解析式可以完成列表的初始化\n",
    "- 能用列表解析式就尽量用列表解析式，非常常用\n",
    "\n",
    "**列表解析式是一种语法糖**\n",
    "- 编译器会优化，不会因为简写而影响效率，反而因优化提高了效率；\n",
    "- 减小程序员工作量，减少出错；\n",
    "- 简化代码，但可读性增强。\n",
    "\n",
    "\n",
    "列表解析式和生成器对比\n",
    "- 列表解析式占内存，生成器使用的时候才计算，未占用内存；\n",
    "\n",
    "参考\n",
    "https://blog.csdn.net/weixin_44823080/article/details/88807561?utm_medium=distribute.pc_relevant.none-task-blog-2%7Edefault%7EBlogCommendFromMachineLearnPai2%7Edefault-1.nonecase&depth_1-utm_source=distribute.pc_relevant.none-task-blog-2%7Edefault%7EBlogCommendFromMachineLearnPai2%7Edefault-1.nonecase"
   ]
  },
  {
   "cell_type": "code",
   "execution_count": 16,
   "metadata": {
    "scrolled": true
   },
   "outputs": [
    {
     "name": "stdout",
     "output_type": "stream",
     "text": [
      "[1, 4, 9, 16, 25, 36, 49, 64, 81, 100] <class 'list'>\n",
      "<class 'list'> 9016\n",
      "<class 'generator'> 112\n"
     ]
    }
   ],
   "source": [
    "import sys\n",
    "#例子1：返回1-10平方的列表\n",
    "ls = [x ** 2 for x in range(1,11)]\n",
    "print(ls,type(ls))\n",
    "\n",
    "#例子2：区别生成式和生成器在占用内存上的区别\n",
    "f1 = [x ** 2 for x in range(1, 1000)]\n",
    "print(type(f1),sys.getsizeof(f1))  # 查看对象占用内存的字节数\n",
    "f2 = (x ** 2 for x in range(1,1000))\n",
    "print(type(f2),sys.getsizeof(f2))"
   ]
  },
  {
   "attachments": {},
   "cell_type": "markdown",
   "metadata": {},
   "source": [
    "#### 列表解析式进阶\n",
    "- 第一种形式\n",
    "```python\n",
    "[expression for item in iterable if cond1 if cond2] #两者等价\n",
    "[expression for item in iterable if cond1 and cond2]\n",
    "```\n",
    "等价于\n",
    "```python\n",
    "ret = []\n",
    "for item in iterable:\n",
    "    if cond1:\n",
    "        if cond2:\n",
    "            ret.append(expression)\n",
    "```\n",
    "```python\n",
    "for item in iterable:\n",
    "    if cond1 and cond2:\n",
    "        ret.append(expression)\n",
    "```\n",
    "\n",
    "- 第二种形式\n",
    "```python\n",
    "[expression for item in iterable if cond1 or cond2]\n",
    "```\n",
    "等价于\n",
    "```python\n",
    "ret = []\n",
    "for item in iterable:\n",
    "    if ocnd1 or cond2:\n",
    "        ret.append(expression\n",
    "```\n",
    "- 第三种形式\n",
    "```python\n",
    "[expression for item1 in iterable1 for item2 in iterable2]\n",
    "```\n",
    "等价于\n",
    "```python\n",
    "ret = []\n",
    "for item1 in iterable:\n",
    "    for item2 in iterable:\n",
    "        ret.append(expression)\n",
    "```"
   ]
  },
  {
   "attachments": {},
   "cell_type": "markdown",
   "metadata": {},
   "source": [
    "### 列表生成器\n",
    "\n",
    "什么是生成器？\n",
    "\n",
    "引子：我们可以直接通过列表生成式创建列表，但是计算机内存是有限制的，列表容量很大时，比如100万个元素的列表，它占用空间过大，如果我们仅仅访问其中的几个元素，造成很大的空间浪费。所以，如果列表元素可以按照某种算法推算出来，我们就不必创建完整的列表，从而节省大量空间。\n",
    "- 在python中，这种**一边循环一边计算**的机制，我们称为**生成器：generator**。\n",
    "- 每次需要数据的时候就通过内部的运算得到数据(需要花费额外的时间)\n",
    "\n",
    "生成器的创建方式：\n",
    "- 调用生成器函数；\n",
    "- 使用生成器表达式语法。\n",
    "\n",
    "优点：\n",
    "- 通过生成器可以获取到数据但它不占用额外的空间存储数据\n"
   ]
  },
  {
   "cell_type": "code",
   "execution_count": 26,
   "metadata": {},
   "outputs": [
    {
     "name": "stdout",
     "output_type": "stream",
     "text": [
      "<generator object <genexpr> at 0x0000021E48D52900> <class 'generator'> 112\n",
      "<class 'list'> 904\n"
     ]
    }
   ],
   "source": [
    "# 使用生成器表达式生成一个生成器对象\n",
    "f = (x ** 2 for x in range(1, 100))\n",
    "print(f,type(f),sys.getsizeof(f))  # 相比生成式,生成器不占用存储数据的空间 \n",
    "l = [i for i in range(1,100)]\n",
    "print(type(l),sys.getsizeof(l))\n",
    "\n",
    "# for val in f: #使用遍历获取生成器中的元素\n",
    "#     print(val)"
   ]
  },
  {
   "attachments": {},
   "cell_type": "markdown",
   "metadata": {},
   "source": [
    "### 遍历列表"
   ]
  },
  {
   "cell_type": "code",
   "execution_count": 20,
   "metadata": {
    "scrolled": false
   },
   "outputs": [
    {
     "name": "stdout",
     "output_type": "stream",
     "text": [
      "1\n",
      "hello\n",
      "3\n",
      "tag\n",
      "1\n",
      "hello\n",
      "3\n",
      "tag\n",
      "0 1\n",
      "1 hello\n",
      "2 3\n",
      "3 tag\n"
     ]
    }
   ],
   "source": [
    "# 使用for循环遍历列表元素\n",
    "list1 = [1,'hello', 3, 'tag']\n",
    "for elem in list1:\n",
    "    print(elem)\n",
    "    \n",
    "# for循环下表遍历列表元素\n",
    "for ind  in range(len(list1)):\n",
    "    print(list1[ind])\n",
    "    \n",
    "# 使用enumerate获取列表元素索引和值（可将列表转化为字典）\n",
    "for ind,elem in enumerate(list1):\n",
    "    print(ind,elem)"
   ]
  },
  {
   "attachments": {},
   "cell_type": "markdown",
   "metadata": {},
   "source": [
    "## List的拷贝\n",
    "\n",
    "- 直接赋值是**浅拷贝**，显然浅拷贝后变量的存放地址相同，仅仅是拷贝到内存地址，且其中一个变量发生增删等操作会直接改变目标变量的值；\n",
    "- 切片是**深拷贝**，深拷贝后变量的存放地址不同，说明另外开辟了新的内存空间存放拷贝后的变量，且其中一个变量的增删操作不会不会对其余的变量产生影响。"
   ]
  },
  {
   "cell_type": "code",
   "execution_count": 3,
   "metadata": {},
   "outputs": [
    {
     "name": "stdout",
     "output_type": "stream",
     "text": [
      "[1, 2, 3, 4, 5, 6] a的初始内存地址  139885010310848\n",
      "[1, 2, 3, 4, 5, 6] b的初始内存地址  139885010310848\n",
      "[1, 2, 3, 4, 5, 6, 7] a的当前内存地址  139885010310848\n",
      "[1, 2, 3, 4, 5, 6, 7] b的当前内存地址  139885010310848\n",
      "[1, 2, 3, 4, 5, 6, 7, 9] a的当前内存地址  139885010310848\n",
      "[1, 2, 3, 4, 5, 6, 7, 9] b的当前内存地址  139885010310848\n",
      "[1, 2, 3, 8] c的当前内存地址  139885010310400\n"
     ]
    }
   ],
   "source": [
    "a = [1,2,3,4,5,6]\n",
    "\n",
    "#----直接赋值----\n",
    "b = a\n",
    "print(a,'a的初始内存地址 ',id(a))\n",
    "print(b,'b的初始内存地址 ',id(b))\n",
    "b.append(7)\n",
    "print(a,'a的当前内存地址 ',id(a))\n",
    "print(b,'b的当前内存地址 ',id(b))\n",
    "\n",
    "#-----切片-----\n",
    "c = a[0:3]\n",
    "c.append(8)\n",
    "a.append(9)\n",
    "print(a,'a的当前内存地址 ',id(a))\n",
    "print(b,'b的当前内存地址 ',id(b))\n",
    "print(c,'c的当前内存地址 ',id(c))"
   ]
  },
  {
   "attachments": {},
   "cell_type": "markdown",
   "metadata": {},
   "source": [
    "### 操作符\n",
    "- `+`连接列表；\n",
    "- `*`用于列表元素重复；\n"
   ]
  },
  {
   "attachments": {},
   "cell_type": "markdown",
   "metadata": {},
   "source": [
    "### 方法与函数"
   ]
  },
  {
   "attachments": {},
   "cell_type": "markdown",
   "metadata": {},
   "source": [
    "# tuple元组"
   ]
  },
  {
   "attachments": {},
   "cell_type": "markdown",
   "metadata": {},
   "source": [
    "- 写在`()`中，和list类似，初始化后不能更改， 安全性更高\n",
    "- 可包含可变对象，比如：list\n",
    "\n",
    "\n",
    "参考\n",
    "https://www.geeksforgeeks.org/tuples-in-python/#\n",
    "https://docs.python.org/zh-cn/3/library/stdtypes.html#sequence-types-list-tuple-range\n",
    "https://blog.csdn.net/cadi2011/article/details/109351620"
   ]
  },
  {
   "cell_type": "code",
   "execution_count": 9,
   "metadata": {},
   "outputs": [
    {
     "name": "stdout",
     "output_type": "stream",
     "text": [
      "20\n",
      "()\n"
     ]
    }
   ],
   "source": [
    "tup1=() #创建空元组\n",
    "tup2=(20,) #创建只包含一个元素的元组，需要在元素后加上逗号\n",
    "print(tup2[0])\n",
    "print(tup1)"
   ]
  },
  {
   "attachments": {},
   "cell_type": "markdown",
   "metadata": {},
   "source": [
    "### tuple操作符"
   ]
  },
  {
   "attachments": {},
   "cell_type": "markdown",
   "metadata": {},
   "source": [
    "### tuple方法、内置函数"
   ]
  },
  {
   "attachments": {},
   "cell_type": "markdown",
   "metadata": {},
   "source": [
    "## dictionary字典"
   ]
  },
  {
   "attachments": {},
   "cell_type": "markdown",
   "metadata": {},
   "source": [
    "- dictionary为无序对象集合，而list是有序集合，通过偏移实现存取等操作\n",
    "- 一种映射类型，，**key:value**，通过键来存取其中\n",
    "- 使用`{}`标识\n",
    "\n",
    "*注意*\n",
    "- 在同一个字典中，同一个`key`不能出现两次，被赋值多次的`key`，最后一个将会被记住\n",
    "- `key`必须不可变，因此，list不能作为`key`，可以的类型只能是：`number`，`string`，`tuple`"
   ]
  },
  {
   "cell_type": "code",
   "execution_count": 2,
   "metadata": {},
   "outputs": [
    {
     "name": "stdout",
     "output_type": "stream",
     "text": [
      "{'name': 'wangjiajun', 'age': '25', 'school': 'nuc', 'gender': 'male'}\n",
      "dict_keys(['name', 'age', 'school', 'gender'])\n",
      "dict_values(['wangjiajun', '25', 'nuc', 'male'])\n",
      "wangjiajun\n",
      "male\n",
      "wangjiajun\n",
      "25\n",
      "nuc\n",
      "male\n"
     ]
    }
   ],
   "source": [
    "mydict = {'name':'wangjiajun','age':'25','school':'nuc','gender':'male'}\n",
    "print(mydict)\n",
    "print(mydict.keys())\n",
    "print(mydict.values())\n",
    "print(mydict['name'])\n",
    "print(mydict['gender'])\n",
    "for i in mydict:\n",
    "    #print(i)\n",
    "    print(mydict[i])"
   ]
  },
  {
   "cell_type": "code",
   "execution_count": 9,
   "metadata": {},
   "outputs": [
    {
     "name": "stdout",
     "output_type": "stream",
     "text": [
      "{'name': {'jj', 'cc'}, 'name1': 'jiajun', 'name2': 'wangjiajun'}\n"
     ]
    }
   ],
   "source": [
    "dict = {'name':'wang','name1':'jiajun','name2':'wangjiajun'}\n",
    "dict['name']=set(['jj','cc'])\n",
    "print(dict)"
   ]
  },
  {
   "attachments": {},
   "cell_type": "markdown",
   "metadata": {},
   "source": [
    "## 构建字典\n"
   ]
  },
  {
   "attachments": {},
   "cell_type": "markdown",
   "metadata": {},
   "source": [
    "## 创建空字典"
   ]
  },
  {
   "cell_type": "code",
   "execution_count": 3,
   "metadata": {},
   "outputs": [
    {
     "data": {
      "text/plain": [
       "dict"
      ]
     },
     "execution_count": 3,
     "metadata": {},
     "output_type": "execute_result"
    }
   ],
   "source": [
    "# 方法一\n",
    "dic = {}\n",
    "# 方法二：使用dict函数\n",
    "dic = dict()\n",
    "type(dic)"
   ]
  },
  {
   "attachments": {},
   "cell_type": "markdown",
   "metadata": {},
   "source": [
    "### 内置方法和函数"
   ]
  },
  {
   "cell_type": "code",
   "execution_count": 24,
   "metadata": {},
   "outputs": [
    {
     "name": "stdout",
     "output_type": "stream",
     "text": [
      "4\n",
      "{'name': 'wangjiajun', 'age': '25', 'school': 'nuc', 1: 'xcv'}\n",
      "<class 'dict'>\n"
     ]
    }
   ],
   "source": [
    "#内置函数\n",
    "dict = {'name':'wangjiajun','age':'25','school':'nuc',1:'xcv'}\n",
    "print(len(dict)) #计算字典长度\n",
    "print(str(dict)) #打印的字符串表示字典\n",
    "print(type(dict)) \n",
    "#内置方法\n"
   ]
  },
  {
   "attachments": {},
   "cell_type": "markdown",
   "metadata": {},
   "source": [
    "# set集合"
   ]
  },
  {
   "attachments": {},
   "cell_type": "markdown",
   "metadata": {},
   "source": [
    "集合set的特点：\n",
    "- 不能包含重复元素；\n",
    "- 结合元素不能改变\n",
    "\n",
    "执行操作\n",
    "- 并集\n",
    "- 交集\n",
    "- 差集"
   ]
  },
  {
   "cell_type": "code",
   "execution_count": 6,
   "metadata": {},
   "outputs": [
    {
     "name": "stdout",
     "output_type": "stream",
     "text": [
      "{'a', 'b', 'c'}\n"
     ]
    }
   ],
   "source": [
    "arr = [1,2,3,4,5]\n",
    "a = set(['a','b','c'])\n",
    "print(a)"
   ]
  },
  {
   "attachments": {},
   "cell_type": "markdown",
   "metadata": {},
   "source": [
    "### 集合覆盖问题\n",
    "\n",
    "贪婪算法、集合\n",
    "\n",
    "《图解算法》8.3"
   ]
  },
  {
   "cell_type": "code",
   "execution_count": null,
   "metadata": {},
   "outputs": [],
   "source": [
    "states_needed = set(['mt','wa','or','id','nv','ut','ca','az'])\n",
    "final_stations = set()\n",
    "stations = {}\n",
    "stations['kone'] = set(['id','nv','ut'])\n",
    "stations['ktwo'] = set(['mt','wa','id'])\n",
    "stations['kthree'] = set(['or','nv','ca'])\n",
    "stations['kfour'] = set(['nv','ut'])\n",
    "stations['kfive'] = set(['ca','az'])"
   ]
  }
 ],
 "metadata": {
  "kernelspec": {
   "display_name": "Python 3",
   "language": "python",
   "name": "python3"
  },
  "language_info": {
   "codemirror_mode": {
    "name": "ipython",
    "version": 3
   },
   "file_extension": ".py",
   "mimetype": "text/x-python",
   "name": "python",
   "nbconvert_exporter": "python",
   "pygments_lexer": "ipython3",
   "version": "3.8.10"
  }
 },
 "nbformat": 4,
 "nbformat_minor": 4
}
