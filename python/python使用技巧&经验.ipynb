{
 "cells": [
  {
   "cell_type": "markdown",
   "metadata": {},
   "source": [
    "# Python中 inf(infinity), Nan(not a number), None的区别"
   ]
  },
  {
   "cell_type": "markdown",
   "metadata": {},
   "source": [
    " - inf 无穷\n",
    " \n",
    " 正无穷，所有的数都比正无穷小，表示方法：`float(\"inf\")`, `float(\"INF\")`, `float(\"Inf\")`\n",
    " \n",
    " 负无穷，所有的数都比负无穷大，表示方法：`float(\"-inf\")`\n",
    " \n",
    " - nan\n",
    " 所有涉及到nan的操作，返回值都为nan"
   ]
  },
  {
   "cell_type": "markdown",
   "metadata": {},
   "source": [
    "## 判断变量是否为NONE的三种写法\n",
    "\n",
    "- `if not x`\n",
    "\n",
    "- `if x is None`\n",
    "\n",
    "- `if not x is None`\n",
    "\n",
    "x可以等于`None`, `False`, `空字符串\"\"`, `0`, `空列表[]`, `空字典{}`, `空元组()`，必须清楚上述情况对if not x判断有没有影响\n",
    "\n",
    "在python 判断语句中 None,  False, 空字符串\"\", 0, 空列表[], 空字典{}, 空元组()都相当于 False \n",
    " \n",
    "`not None == not False == not '' == not 0 == not [] == not {} == not ()`"
   ]
  },
  {
   "cell_type": "code",
   "execution_count": 3,
   "metadata": {
    "scrolled": true
   },
   "outputs": [
    {
     "name": "stdout",
     "output_type": "stream",
     "text": [
      "True\n",
      "True\n",
      "True\n",
      "True\n"
     ]
    }
   ],
   "source": [
    "x= []\n",
    "print(not x)\n",
    "x is None\n",
    "print(not x) #没有办法区分x是空列表还是None\n",
    "\n",
    "y = None\n",
    "print(not y)\n",
    "\n",
    "z= {}\n",
    "print(not z)"
   ]
  },
  {
   "cell_type": "markdown",
   "metadata": {},
   "source": [
    "# return语句\n",
    "- 返回到调用的地方，包括程序的控制权\n",
    "- 函数没有return，默认return回一个None对象\n",
    "\n",
    "程序运行时，遇到第一个return即返回（退出def块），不会在继续运行下去"
   ]
  },
  {
   "cell_type": "code",
   "execution_count": null,
   "metadata": {},
   "outputs": [],
   "source": []
  }
 ],
 "metadata": {
  "kernelspec": {
   "display_name": "Python 3",
   "language": "python",
   "name": "python3"
  },
  "language_info": {
   "codemirror_mode": {
    "name": "ipython",
    "version": 3
   },
   "file_extension": ".py",
   "mimetype": "text/x-python",
   "name": "python",
   "nbconvert_exporter": "python",
   "pygments_lexer": "ipython3",
   "version": "3.8.5"
  }
 },
 "nbformat": 4,
 "nbformat_minor": 4
}
